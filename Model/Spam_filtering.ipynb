{
 "cells": [
  {
   "cell_type": "code",
   "execution_count": 1,
   "metadata": {},
   "outputs": [
    {
     "name": "stdout",
     "output_type": "stream",
     "text": [
      "['.DS_Store', '.git', '.ipynb_checkpoints', 'app.yaml', 'countvect', 'Email_spam_filtering.py', 'main.py', 'model_file', 'spam.csv', 'Spam_filtering.ipynb', 'vector_countvect', 'webapp']\n"
     ]
    }
   ],
   "source": [
    "#importing libraries\n",
    "\n",
    "import numpy as np # linear algebra\n",
    "import pandas as pd # data processing, CSV file I/O (e.g. pd.read_csv)\n",
    "import nltk \n",
    "import matplotlib.pyplot as plt\n",
    "import seaborn as sns\n",
    "import scikitplot as skplt\n",
    "from sklearn.model_selection import train_test_split\n",
    "from sklearn.feature_extraction.text import CountVectorizer, TfidfTransformer\n",
    "from sklearn.metrics import accuracy_score,confusion_matrix,classification_report\n",
    "from sklearn.naive_bayes import MultinomialNB\n",
    "import requests,json\n",
    "import pickle\n",
    "\n",
    "import os\n",
    "print(os.listdir(\"./\"))"
   ]
  },
  {
   "cell_type": "code",
   "execution_count": 2,
   "metadata": {},
   "outputs": [
    {
     "data": {
      "text/html": [
       "<div>\n",
       "<style>\n",
       "    .dataframe thead tr:only-child th {\n",
       "        text-align: right;\n",
       "    }\n",
       "\n",
       "    .dataframe thead th {\n",
       "        text-align: left;\n",
       "    }\n",
       "\n",
       "    .dataframe tbody tr th {\n",
       "        vertical-align: top;\n",
       "    }\n",
       "</style>\n",
       "<table border=\"1\" class=\"dataframe\">\n",
       "  <thead>\n",
       "    <tr style=\"text-align: right;\">\n",
       "      <th></th>\n",
       "      <th>v1</th>\n",
       "      <th>v2</th>\n",
       "    </tr>\n",
       "  </thead>\n",
       "  <tbody>\n",
       "    <tr>\n",
       "      <th>0</th>\n",
       "      <td>ham</td>\n",
       "      <td>Go until jurong point, crazy.. Available only ...</td>\n",
       "    </tr>\n",
       "    <tr>\n",
       "      <th>1</th>\n",
       "      <td>ham</td>\n",
       "      <td>Ok lar... Joking wif u oni...</td>\n",
       "    </tr>\n",
       "    <tr>\n",
       "      <th>2</th>\n",
       "      <td>spam</td>\n",
       "      <td>Free entry in 2 a wkly comp to win FA Cup fina...</td>\n",
       "    </tr>\n",
       "    <tr>\n",
       "      <th>3</th>\n",
       "      <td>ham</td>\n",
       "      <td>U dun say so early hor... U c already then say...</td>\n",
       "    </tr>\n",
       "    <tr>\n",
       "      <th>4</th>\n",
       "      <td>ham</td>\n",
       "      <td>Nah I don't think he goes to usf, he lives aro...</td>\n",
       "    </tr>\n",
       "  </tbody>\n",
       "</table>\n",
       "</div>"
      ],
      "text/plain": [
       "     v1                                                 v2\n",
       "0   ham  Go until jurong point, crazy.. Available only ...\n",
       "1   ham                      Ok lar... Joking wif u oni...\n",
       "2  spam  Free entry in 2 a wkly comp to win FA Cup fina...\n",
       "3   ham  U dun say so early hor... U c already then say...\n",
       "4   ham  Nah I don't think he goes to usf, he lives aro..."
      ]
     },
     "execution_count": 2,
     "metadata": {},
     "output_type": "execute_result"
    }
   ],
   "source": [
    "#reading the dataset \n",
    "\n",
    "df = pd.read_csv('.//spam.csv',encoding='latin-1')\n",
    "df=df.drop(['Unnamed: 2','Unnamed: 3','Unnamed: 4'],axis=1)\n",
    "df.head(5)\n"
   ]
  },
  {
   "cell_type": "code",
   "execution_count": 3,
   "metadata": {},
   "outputs": [
    {
     "data": {
      "text/plain": [
       "0     ham\n",
       "1     ham\n",
       "2    spam\n",
       "3     ham\n",
       "4     ham\n",
       "Name: v1, dtype: object"
      ]
     },
     "execution_count": 3,
     "metadata": {},
     "output_type": "execute_result"
    }
   ],
   "source": [
    "df_labels=df['v1']\n",
    "df_labels.head(5)"
   ]
  },
  {
   "cell_type": "code",
   "execution_count": 4,
   "metadata": {},
   "outputs": [],
   "source": [
    "#splitting the test and train data \n",
    "trainset, testset, trainlabel, testlabel = train_test_split(df, df_labels, test_size=0.33, random_state=42)"
   ]
  },
  {
   "cell_type": "code",
   "execution_count": 5,
   "metadata": {},
   "outputs": [],
   "source": [
    "#extracting n-grams from the text data\n",
    "countvect= CountVectorizer(ngram_range=(2,2),)\n",
    "x_counts = countvect.fit(trainset.v2)\n",
    "#preparing for training set\n",
    "x_train_df =countvect.transform(trainset.v2)\n",
    "#preparing for test set\n",
    "x_test_df = countvect.transform(testset.v2)"
   ]
  },
  {
   "cell_type": "code",
   "execution_count": 6,
   "metadata": {},
   "outputs": [
    {
     "name": "stdout",
     "output_type": "stream",
     "text": [
      "The accuracy of the model is 97.87928221859707%\n",
      "[[1581    6]\n",
      " [  33  219]]\n"
     ]
    },
    {
     "data": {
      "image/png": "[encoded data removed]",
      "text/plain": [
       "<matplotlib.figure.Figure at 0x104408668>"
      ]
     },
     "metadata": {},
     "output_type": "display_data"
    }
   ],
   "source": [
    "#Creating the model using naive bayes\n",
    "clf=MultinomialNB()\n",
    "clf.fit(x_train_df,trainset.v1)\n",
    "predicted_values = clf.predict(x_test_df)\n",
    "predictions=dict()\n",
    "acurracy = accuracy_score(testset.v1,predicted_values)\n",
    "predictions['Naive Bayes']=acurracy*100\n",
    "confusionmatrix = confusion_matrix(testset.v1,predicted_values)\n",
    "print(\"The accuracy of the model is {}%\".format(acurracy*100 ))\n",
    "print(confusionmatrix)\n",
    "skplt.metrics.plot_confusion_matrix(testset.v1,predicted_values, normalize=True)\n",
    "plt.show()"
   ]
  },
  {
   "cell_type": "code",
   "execution_count": 7,
   "metadata": {},
   "outputs": [
    {
     "name": "stdout",
     "output_type": "stream",
     "text": [
      "  (0, 11034)\t1\n",
      "  (0, 13059)\t1\n",
      "  (0, 25177)\t1\n",
      "  (0, 26178)\t1\n",
      "['ham']\n"
     ]
    }
   ],
   "source": [
    "def prepareword(word):\n",
    "    trans_word=countvect.transform(word)\n",
    "    return trans_word\n",
    "\n",
    "sent = ['Is there any annual fee I have to pay to Best Buy']\n",
    "sent=prepareword(sent)\n",
    "print(sent)\n",
    "print(clf.predict(sent))"
   ]
  },
  {
   "cell_type": "code",
   "execution_count": 8,
   "metadata": {},
   "outputs": [
    {
     "name": "stdout",
     "output_type": "stream",
     "text": [
      "1044    We know someone who you know that fancies you....\n",
      "Name: v2, dtype: object\n"
     ]
    }
   ],
   "source": [
    "#serializing the model \n",
    "pickle.dump(clf,open('model_file',\"wb\"))\n",
    "pickle.dump(countvect,open('countvect','wb'))\n",
    "print(testset.v2[[1044]])"
   ]
  },
  {
   "cell_type": "code",
   "execution_count": 9,
   "metadata": {},
   "outputs": [
    {
     "data": {
      "text/plain": [
       "array(['ham'], dtype='<U4')"
      ]
     },
     "execution_count": 9,
     "metadata": {},
     "output_type": "execute_result"
    }
   ],
   "source": [
    "#loading the serialzied model\n",
    "ser_clf = pickle.load(open('model_file','rb'))\n",
    "ser_countvect =pickle.load(open('countvect','rb'))\n",
    "\n",
    "#loading the serialized joblib model \n",
    "# ser_clf = joblib.load('model.pkl')\n",
    "# ser_countvect=joblib.load('countvect.pkl')\n",
    "#testing the loaded model \n",
    "word = ['green_tea']\n",
    "x_count = ser_countvect.transform(word)\n",
    "x_count_f=prepareword(word)\n",
    "\n",
    "ser_clf.predict(x_count[0])"
   ]
  },
  {
   "cell_type": "code",
   "execution_count": 13,
   "metadata": {},
   "outputs": [
    {
     "name": "stdout",
     "output_type": "stream",
     "text": [
      "spam\n"
     ]
    }
   ],
   "source": [
    "url= 'http://localhost:5004/api'\n",
    "data = json.dumps(['Congratulations ur awarded either å£500 of CD '])\n",
    "r=requests.post(url,data)\n",
    "result = r.json()\n",
    "print(result['results'])"
   ]
  }
 ],
 "metadata": {
  "kernelspec": {
   "display_name": "Python 3",
   "language": "python",
   "name": "python3"
  }
 },
 "nbformat": 4,
 "nbformat_minor": 2
}
